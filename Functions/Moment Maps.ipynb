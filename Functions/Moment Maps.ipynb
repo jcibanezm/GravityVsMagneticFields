{
 "metadata": {
  "name": "",
  "signature": "sha256:c073fa9374b9937eda82be995af831ab8b2ccd481248f69c38589f9e9b585686"
 },
 "nbformat": 3,
 "nbformat_minor": 0,
 "worksheets": []
}