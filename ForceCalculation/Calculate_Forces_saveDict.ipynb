{
 "metadata": {
  "name": "",
  "signature": "sha256:617a031cfedeb593db6d08f9d1ba566300ce01dbdaf46d9ea4912c0825f5cf47"
 },
 "nbformat": 3,
 "nbformat_minor": 0,
 "worksheets": [
  {
   "cells": [
    {
     "cell_type": "code",
     "collapsed": false,
     "input": [
      "import matplotlib\n",
      "# Force matplotlib to not use any Xwindows backend.\n",
      "#matplotlib.use('Agg')\n",
      "\n",
      "from yt.config import ytcfg;ytcfg[\"yt\",\"__withinreason\"]=\"True\"\n",
      "import os\n",
      "import uuid\n",
      "\n",
      "Cloud_name  = \"M8e3\"\n",
      "resolution  = 0.1\n",
      "ncut        = 100\n",
      "snapshot    = 20\n",
      "\n",
      "# Use the offset if I have calculated the cloud properties for some snapshots already.\n",
      "offset        = 0\n",
      "num_snapshots = 1\n",
      "\n",
      "import yt\n",
      "import os\n",
      "import math\n",
      "from yt import derived_field\n",
      "import matplotlib.pyplot as plt\n",
      "import numpy as np\n",
      "from matplotlib.colors import LogNorm\n",
      "from yt.units import pc, kpc, second, Kelvin, gram, erg, cm\n",
      "import cPickle as cP\n",
      "\n",
      "import timeit\n",
      "\n",
      "\n",
      "# Define some constant parameters to be used.\n",
      "mp      = 1.6726e-24  * gram # g\n",
      "mu      = 1.2924\n",
      "kb      = 1.3806e-16  *erg / Kelvin # erg K-1\n",
      "GNewton = 6.6743e-8   * cm**3 / (gram * second**2 )# cm3 g-1 s-2\n",
      "Msun    = 1.9884e33   * gram\n",
      "mm      = mu*mp\n",
      "\n",
      "ppc = 3.0856776e18\n",
      "\n",
      "# Create a derived field.\n",
      "@derived_field(name=\"numdens\", units=\"1/cm**3\", force_override=True)\n",
      "def numdens(field, data):\n",
      "    return data[\"dens\"].in_cgs()/mm\n",
      "\n",
      "yt.add_field('numdens', function=numdens, units=\"1/cm**3\", force_override=True)\n",
      "\n",
      "# Create all the derived fields calculating the force, per unit volume.\n",
      "\n",
      "\n",
      "# Generalize for all the other clouds.\n",
      "if Cloud_name == \"M4e3\":\n",
      "\n",
      "    px = 180\n",
      "    py = -25\n",
      "    pz =  10\n",
      "    cloud_alpha = 0.4\n",
      "\n",
      "    rad = 50\n",
      "    real_rad = 30\n",
      "\n",
      "    px_str = str(px)\n",
      "    py_str = str(py)\n",
      "    pz_str = str(pz)\n",
      "\n",
      "    pz = pz - 3.\n",
      "\n",
      "    # Mean bulk velocity of the cloud.\n",
      "    bvx_mean = -1.\n",
      "    bvy_mean = -1.\n",
      "    bvz_mean = -1.\n",
      "\n",
      "    txt_xoffset = 15\n",
      "    txt_yoffset = -25\n",
      "\n",
      "\n",
      "if Cloud_name == \"M3e3\":\n",
      "\n",
      "    px = 450\n",
      "    py = -380\n",
      "    pz = 25\n",
      "    cloud_alpha = 0.4\n",
      "\n",
      "    rad = 50\n",
      "    real_rad = 30\n",
      "\n",
      "    px_str = str(px)\n",
      "    py_str = str(py)\n",
      "    pz_str = str(pz)\n",
      "\n",
      "    px = px + 8\n",
      "    py = py\n",
      "    pz = pz - 8\n",
      "\n",
      "    # Mean bulk velocity of the cloud.\n",
      "    bvx_mean = 0.\n",
      "    bvy_mean = 3.0\n",
      "    bvz_mean = -2.0\n",
      "\n",
      "    txt_xoffset = 25\n",
      "    txt_yoffset = -35\n",
      "\n",
      "elif Cloud_name == \"M8e3\":\n",
      "    px = 60\n",
      "    py = 370\n",
      "    pz = 30\n",
      "    cloud_alpha = 0.8\n",
      "\n",
      "    rad = 100\n",
      "    real_rad = 30\n",
      "\n",
      "    px_str = str(px)\n",
      "    py_str = str(py)\n",
      "    pz_str = str(pz)\n",
      "\n",
      "    # Mean bulk velocity of the cloud.\n",
      "    bvx_mean =  1.\n",
      "    bvy_mean = -1.\n",
      "    bvz_mean = -1.\n",
      "\n",
      "    px = px + 5\n",
      "    py = py - 10\n",
      "    pz = pz - 5\n",
      "\n",
      "    txt_xoffset = 30\n",
      "    txt_yoffset = -50\n",
      "\n",
      "cloud_dir = Cloud_name + \"_\" + \"a%.2i\" %(cloud_alpha*10) + \"_x\" + px_str + \"_y\" + py_str + \"_z\" + pz_str\n",
      "\n",
      "if resolution < 0.1:\n",
      "    resolution_str = \"%.3i\" %(resolution*100)\n",
      "elif resolution == 1:\n",
      "    resolution_str = \"1\"\n",
      "else:\n",
      "    resolution_str = \"%.2i\" %(resolution*10)\n",
      "\n",
      "data_dir = \"/data/manda/jcibanezm/StratBox/RealProd/1pc_and_AccClouds/AccPaper_Resims/Particles/\" + cloud_dir + \"/%spc/\" %resolution_str\n",
      "\n",
      "# Set the address and the name of the data set.\n",
      "if resolution == 1:\n",
      "    basename = \"Strat_Box_\" + Cloud_name + \"_%spc_SG_hdf5_\" %(resolution_str)\n",
      "else:\n",
      "    basename = \"Strat_Box_\" + Cloud_name + \"_%spc_hdf5_\" %(resolution_str)"
     ],
     "language": "python",
     "metadata": {},
     "outputs": [],
     "prompt_number": 1
    },
    {
     "cell_type": "code",
     "collapsed": false,
     "input": [
      "snapshot += offset\n",
      "\n",
      "plt_file  = data_dir + basename + \"plt_cnt_%.4i\" %snapshot\n",
      "part_file = data_dir + basename + \"part_%.4i\"    %snapshot\n",
      "\n",
      "# Load data set\n",
      "pf = yt.load(plt_file , particle_filename=part_file)\n",
      "\n",
      "# Move the center of the frame.\n",
      "px_now = px + bvx_mean * snapshot/10.\n",
      "py_now = py + bvy_mean * snapshot/10.\n",
      "pz_now = pz + bvz_mean * snapshot/10.\n",
      "\n",
      "c = [px_now*ppc, py_now*ppc, pz_now*ppc]\n",
      "\n",
      "le = [c[0] - rad*ppc, c[1]-rad*ppc, c[2]-rad*ppc]\n",
      "re = [c[0] + rad*ppc, c[1]+rad*ppc, c[2]+rad*ppc]\n",
      "\n",
      "# Generate regions to access the particle and fluid data.\n",
      "box  = pf.region(c, le, re)\n",
      "sph  = pf.sphere(c, real_rad*pc)"
     ],
     "language": "python",
     "metadata": {},
     "outputs": [
      {
       "output_type": "stream",
       "stream": "stderr",
       "text": [
        "yt : [INFO     ] 2017-10-19 18:26:20,873 integer runtime parameter checkpointfilenumber overwrites a simulation scalar of the same name\n"
       ]
      },
      {
       "output_type": "stream",
       "stream": "stderr",
       "text": [
        "yt : [INFO     ] 2017-10-19 18:26:20,873 integer runtime parameter forcedplotfilenumber overwrites a simulation scalar of the same name\n"
       ]
      },
      {
       "output_type": "stream",
       "stream": "stderr",
       "text": [
        "yt : [INFO     ] 2017-10-19 18:26:20,874 integer runtime parameter nbegin overwrites a simulation scalar of the same name\n"
       ]
      },
      {
       "output_type": "stream",
       "stream": "stderr",
       "text": [
        "yt : [INFO     ] 2017-10-19 18:26:20,875 integer runtime parameter particlefilenumber overwrites a simulation scalar of the same name\n"
       ]
      },
      {
       "output_type": "stream",
       "stream": "stderr",
       "text": [
        "yt : [INFO     ] 2017-10-19 18:26:20,875 integer runtime parameter plotfilenumber overwrites a simulation scalar of the same name\n"
       ]
      },
      {
       "output_type": "stream",
       "stream": "stderr",
       "text": [
        "yt : [INFO     ] 2017-10-19 18:26:20,906 Parameters: current_time              = 7.61450004556e+15\n"
       ]
      },
      {
       "output_type": "stream",
       "stream": "stderr",
       "text": [
        "yt : [INFO     ] 2017-10-19 18:26:20,906 Parameters: domain_dimensions         = [ 16  16 640]\n"
       ]
      },
      {
       "output_type": "stream",
       "stream": "stderr",
       "text": [
        "yt : [INFO     ] 2017-10-19 18:26:20,907 Parameters: domain_left_edge          = [ -1.50000000e+21  -1.50000000e+21  -6.00000000e+22]\n"
       ]
      },
      {
       "output_type": "stream",
       "stream": "stderr",
       "text": [
        "yt : [INFO     ] 2017-10-19 18:26:20,908 Parameters: domain_right_edge         = [  1.50000000e+21   1.50000000e+21   6.00000000e+22]\n"
       ]
      },
      {
       "output_type": "stream",
       "stream": "stderr",
       "text": [
        "yt : [INFO     ] 2017-10-19 18:26:20,908 Parameters: cosmological_simulation   = 0.0\n"
       ]
      },
      {
       "output_type": "stream",
       "stream": "stderr",
       "text": [
        "yt : [INFO     ] 2017-10-19 18:26:21,983 Loading field plugins.\n"
       ]
      },
      {
       "output_type": "stream",
       "stream": "stderr",
       "text": [
        "yt : [INFO     ] 2017-10-19 18:26:21,984 Loaded angular_momentum (8 new fields)\n"
       ]
      },
      {
       "output_type": "stream",
       "stream": "stderr",
       "text": [
        "yt : [INFO     ] 2017-10-19 18:26:21,985 Loaded astro (15 new fields)\n"
       ]
      },
      {
       "output_type": "stream",
       "stream": "stderr",
       "text": [
        "yt : [INFO     ] 2017-10-19 18:26:21,986 Loaded cosmology (22 new fields)\n"
       ]
      },
      {
       "output_type": "stream",
       "stream": "stderr",
       "text": [
        "yt : [INFO     ] 2017-10-19 18:26:21,988 Loaded fluid (62 new fields)\n"
       ]
      },
      {
       "output_type": "stream",
       "stream": "stderr",
       "text": [
        "yt : [INFO     ] 2017-10-19 18:26:21,990 Loaded fluid_vector (94 new fields)\n"
       ]
      },
      {
       "output_type": "stream",
       "stream": "stderr",
       "text": [
        "yt : [INFO     ] 2017-10-19 18:26:21,991 Loaded geometric (110 new fields)\n"
       ]
      },
      {
       "output_type": "stream",
       "stream": "stderr",
       "text": [
        "yt : [INFO     ] 2017-10-19 18:26:21,992 Loaded local (111 new fields)\n"
       ]
      },
      {
       "output_type": "stream",
       "stream": "stderr",
       "text": [
        "yt : [INFO     ] 2017-10-19 18:26:21,993 Loaded magnetic_field (119 new fields)\n"
       ]
      },
      {
       "output_type": "stream",
       "stream": "stderr",
       "text": [
        "yt : [INFO     ] 2017-10-19 18:26:21,994 Loaded my_plugins (119 new fields)\n"
       ]
      },
      {
       "output_type": "stream",
       "stream": "stderr",
       "text": [
        "yt : [INFO     ] 2017-10-19 18:26:21,995 Loaded species (121 new fields)\n"
       ]
      }
     ],
     "prompt_number": 2
    },
    {
     "cell_type": "code",
     "collapsed": false,
     "input": [
      "grad_fieldsx     = pf.add_gradient_fields(('flash', u'velx'))\n",
      "grad_fieldsy     = pf.add_gradient_fields(('flash', u'vely'))\n",
      "grad_fieldsz     = pf.add_gradient_fields(('flash', u'velz'))\n",
      "grad_fields_gpot = pf.add_gradient_fields(('flash', u'gpot'))"
     ],
     "language": "python",
     "metadata": {},
     "outputs": [],
     "prompt_number": 3
    },
    {
     "cell_type": "code",
     "collapsed": false,
     "input": [
      "def _conv_x(field, data):\n",
      "    # Do I need to subtract the bulk velocity ?\n",
      "    uxdx = data[\"velx\"].in_cgs() * data[\"velx_gradient_x\"].in_cgs()\n",
      "    uxdy = data[\"vely\"].in_cgs() * data[\"velx_gradient_y\"].in_cgs()\n",
      "    uxdz = data[\"velz\"].in_cgs() * data[\"velx_gradient_z\"].in_cgs()\n",
      "\n",
      "    convx = uxdx + uxdy + uxdz\n",
      "    return convx\n",
      "\n",
      "def _conv_y(field, data):\n",
      "    uydx = data[\"velx\"].in_cgs() * data[\"vely_gradient_x\"].in_cgs()\n",
      "    uydy = data[\"vely\"].in_cgs() * data[\"vely_gradient_y\"].in_cgs()\n",
      "    uydz = data[\"velz\"].in_cgs() * data[\"vely_gradient_z\"].in_cgs()\n",
      "\n",
      "    convy = uydx + uydy + uydz\n",
      "    return convy\n",
      "\n",
      "def _conv_z(field, data):\n",
      "    uzdx = data[\"velx\"].in_cgs() * data[\"velz_gradient_x\"].in_cgs()\n",
      "    uzdy = data[\"vely\"].in_cgs() * data[\"velz_gradient_y\"].in_cgs()\n",
      "    uzdz = data[\"velz\"].in_cgs() * data[\"velz_gradient_z\"].in_cgs()\n",
      "\n",
      "    convz = uzdx + uzdy + uzdz\n",
      "    return convz\n",
      "\n",
      "pf.add_field(('gas','conv_x'), function=_conv_x, units=\"cm/s**2\", take_log=False,\n",
      "             display_name='convective term in the x direction.')\n",
      "\n",
      "pf.add_field(('gas','conv_y'), function=_conv_y, units=\"cm/s**2\", take_log=False,\n",
      "             display_name='convective term in the y direction.')\n",
      "\n",
      "pf.add_field(('gas','conv_z'), function=_conv_z, units=\"cm/s**2\", take_log=False,\n",
      "             display_name='convective term in the z direction.')"
     ],
     "language": "python",
     "metadata": {},
     "outputs": [],
     "prompt_number": 4
    },
    {
     "cell_type": "markdown",
     "metadata": {},
     "source": [
      "---"
     ]
    },
    {
     "cell_type": "code",
     "collapsed": false,
     "input": [
      "grad_fields_bx = pf.add_gradient_fields(('flash', u'magx'))\n",
      "grad_fields_by = pf.add_gradient_fields(('flash', u'magy'))\n",
      "grad_fields_bz = pf.add_gradient_fields(('flash', u'magz'))"
     ],
     "language": "python",
     "metadata": {},
     "outputs": [],
     "prompt_number": 5
    },
    {
     "cell_type": "code",
     "collapsed": false,
     "input": [
      "def _Lorentz_x(field, data):\n",
      "    import math\n",
      "    \n",
      "    pi = math.pi\n",
      "    term1 = (data[\"magx_gradient_z\"] - data[\"magz_gradient_x\"]) * data[\"magz\"]\n",
      "    term2 = (data[\"magy_gradient_x\"] - data[\"magx_gradient_y\"]) * data[\"magy\"]\n",
      "    \n",
      "    force_x = 1.0 / (4.0 * pi) *(term1 - term2).in_cgs()\n",
      "    return force_x\n",
      "\n",
      "def _Lorentz_y(field, data):\n",
      "    import math\n",
      "    \n",
      "    pi = math.pi\n",
      "    term1 = (data[\"magy_gradient_x\"] - data[\"magx_gradient_y\"]) * data[\"magx\"]\n",
      "    term2 = (data[\"magz_gradient_y\"] - data[\"magy_gradient_z\"]) * data[\"magz\"]\n",
      "    \n",
      "    force_y = 1.0 / (4.0 * pi) *(term1 - term2).in_cgs()\n",
      "    return force_y\n",
      "\n",
      "def _Lorentz_z(field, data):\n",
      "    import math\n",
      "    \n",
      "    pi = math.pi\n",
      "    term1 = (data[\"magz_gradient_y\"] - data[\"magy_gradient_z\"]) * data[\"magy\"]\n",
      "    term2 = (data[\"magx_gradient_z\"] - data[\"magz_gradient_x\"]) * data[\"magx\"]\n",
      "    \n",
      "    force_z = 1.0 / (4.0 * pi) *(term1 - term2).in_cgs()\n",
      "    return force_z"
     ],
     "language": "python",
     "metadata": {},
     "outputs": [],
     "prompt_number": 6
    },
    {
     "cell_type": "code",
     "collapsed": false,
     "input": [
      "pf.add_field(('gas','lorentz_x'), function=_Lorentz_x, units=\"g/(cm**2*s**2)\", take_log=False, force_override=True,\n",
      "             display_name='Lorentz force in the x direction.', )\n",
      "\n",
      "pf.add_field(('gas','lorentz_y'), function=_Lorentz_y, units=\"g/(cm**2*s**2)\", take_log=False, force_override=True,\n",
      "             display_name='Lorentz force in the y direction.', )\n",
      "\n",
      "pf.add_field(('gas','lorentz_z'), function=_Lorentz_z, units=\"g/(cm**2*s**2)\", take_log=False, force_override=True,\n",
      "             display_name='Lorentz force in the z direction.', )"
     ],
     "language": "python",
     "metadata": {},
     "outputs": [],
     "prompt_number": 7
    },
    {
     "cell_type": "markdown",
     "metadata": {},
     "source": [
      "# Calculate the ram pressure and the rotation of the fluid."
     ]
    },
    {
     "cell_type": "code",
     "collapsed": false,
     "input": [
      "def _Vmag2(field, data):\n",
      "\n",
      "    vmag2 = 0.5* (data[\"velx\"] * data[\"velx\"] + data[\"vely\"] * data[\"vely\"] + data[\"velz\"] * data[\"velz\"])\n",
      "    return vmag2\n",
      "\n",
      "pf.add_field(('gas','vmag2'), function=_Vmag2, units=\"cm**2/s**2\", take_log=False, force_override=True,\n",
      "             display_name='velocity magnitude squared.', )\n",
      "\n",
      "grad_fields_ram = pf.add_gradient_fields(('gas', 'vmag2'))"
     ],
     "language": "python",
     "metadata": {},
     "outputs": [],
     "prompt_number": 8
    },
    {
     "cell_type": "code",
     "collapsed": false,
     "input": [
      "grad_fields_vx = pf.add_gradient_fields(('flash', u'velx'))\n",
      "grad_fields_vy = pf.add_gradient_fields(('flash', u'vely'))\n",
      "grad_fields_vz = pf.add_gradient_fields(('flash', u'velz'))"
     ],
     "language": "python",
     "metadata": {},
     "outputs": [],
     "prompt_number": 9
    },
    {
     "cell_type": "code",
     "collapsed": false,
     "input": [
      "def _Vort_x(field, data):\n",
      "    \n",
      "    term1 = (data[\"velx_gradient_z\"] - data[\"velz_gradient_x\"]) * data[\"velz\"]\n",
      "    term2 = (data[\"vely_gradient_x\"] - data[\"velx_gradient_y\"]) * data[\"vely\"]\n",
      "    \n",
      "    force_x = (term1 - term2).in_cgs()\n",
      "    return force_x\n",
      "\n",
      "def _Vort_y(field, data):\n",
      "\n",
      "    term1 = (data[\"vely_gradient_x\"] - data[\"velx_gradient_y\"]) * data[\"velx\"]\n",
      "    term2 = (data[\"velz_gradient_y\"] - data[\"vely_gradient_z\"]) * data[\"velz\"]\n",
      "    \n",
      "    force_y = (term1 - term2).in_cgs()\n",
      "    return force_y\n",
      "\n",
      "def _Vort_z(field, data):\n",
      "\n",
      "    term1 = (data[\"velz_gradient_y\"] - data[\"vely_gradient_z\"]) * data[\"vely\"]\n",
      "    term2 = (data[\"velx_gradient_z\"] - data[\"velz_gradient_x\"]) * data[\"velx\"]\n",
      "    \n",
      "    force_z = (term1 - term2).in_cgs()\n",
      "    return force_z"
     ],
     "language": "python",
     "metadata": {},
     "outputs": [],
     "prompt_number": 10
    },
    {
     "cell_type": "code",
     "collapsed": false,
     "input": [
      "pf.add_field(('gas','curl_vort_x'), function=_Vort_x, units=\"cm/s**2\", take_log=False, force_override=True,\n",
      "             display_name='Curl of the vorticity in the x direction.', )\n",
      "\n",
      "pf.add_field(('gas','curl_vort_y'), function=_Vort_y, units=\"cm/s**2\", take_log=False, force_override=True,\n",
      "             display_name='Curl of the vorticity in the y direction.', )\n",
      "\n",
      "pf.add_field(('gas','curl_vort_z'), function=_Vort_z, units=\"cm/s**2\", take_log=False, force_override=True,\n",
      "             display_name='curl of the vorticity in the z direction.', )"
     ],
     "language": "python",
     "metadata": {},
     "outputs": [],
     "prompt_number": 11
    },
    {
     "cell_type": "markdown",
     "metadata": {},
     "source": [
      "---"
     ]
    },
    {
     "cell_type": "code",
     "collapsed": false,
     "input": [
      "box  = pf.region(c, le, re)"
     ],
     "language": "python",
     "metadata": {},
     "outputs": [],
     "prompt_number": 12
    },
    {
     "cell_type": "code",
     "collapsed": false,
     "input": [
      "# Now, calculate here the advection on the reference frame of the box center of mass."
     ],
     "language": "python",
     "metadata": {},
     "outputs": [],
     "prompt_number": 13
    },
    {
     "cell_type": "markdown",
     "metadata": {},
     "source": [
      "my idea is the following:\n",
      "\n",
      "if I have a flow $V$, consisting on a background velocity $v_{0}$ and some fluctuations $\\delta v$.\n",
      "\n",
      "The advection term is, $$ (V \\cdot \\nabla)V = ((v_{0} + \\delta v) \\cdot \\nabla) (v_{0} + \\delta v) $$\n",
      "\n",
      "given that $v_{0}$ is uniform, $\\partial_{i} v_{0} = 0$, then $$(V \\cdot \\nabla)V  = ((v_{0} + \\delta v) \\cdot \\nabla) \\delta v $$ \n",
      "$$ (V \\cdot \\nabla)V = (v_{0} \\cdot \\nabla) \\delta v  + (\\delta v \\cdot \\nabla) \\delta v $$\n",
      "\n",
      "if I jump on an innertial reference frame, any alteration to the advective term will be contained in the $v_{0}$ term.\n",
      "\n",
      "Therefore, in order to calculate the contribution of the advection, from the reference frame of the box containing my cloud, I should compute the following:\n",
      "\n",
      "$$ (\\delta v \\cdot \\nabla) \\delta v =  (V \\cdot \\nabla)V - (v_{0} \\cdot \\nabla) \\delta v $$\n",
      "\n"
     ]
    },
    {
     "cell_type": "code",
     "collapsed": false,
     "input": [
      "def adv_newref_x(data):\n",
      "    BV   = data.quantities.bulk_velocity().in_cgs()\n",
      "    uxdx = (data[\"velx\"].in_cgs() - BV[0] ) * data[\"velx_gradient_x\"].in_cgs() \n",
      "    uxdy = (data[\"vely\"].in_cgs() - BV[1] ) * data[\"velx_gradient_y\"].in_cgs()\n",
      "    uxdz = (data[\"velz\"].in_cgs() - BV[2] ) * data[\"velx_gradient_z\"].in_cgs()\n",
      "    \n",
      "    convx = uxdx + uxdy + uxdz\n",
      "    return convx\n",
      "\n",
      "def adv_newref_y(data):\n",
      "    BV   = data.quantities.bulk_velocity().in_cgs()\n",
      "    uydx = (data[\"velx\"].in_cgs() - BV[0] ) * data[\"vely_gradient_x\"].in_cgs()\n",
      "    uydy = (data[\"vely\"].in_cgs() - BV[1] ) * data[\"vely_gradient_y\"].in_cgs()\n",
      "    uydz = (data[\"velz\"].in_cgs() - BV[2] ) * data[\"vely_gradient_z\"].in_cgs()\n",
      "\n",
      "    convy = uydx + uydy + uydz\n",
      "    return convy\n",
      "\n",
      "def adv_newref_z(data):\n",
      "    BV   = data.quantities.bulk_velocity().in_cgs()\n",
      "    uzdx = (data[\"velx\"].in_cgs() - BV[0] ) * data[\"velz_gradient_x\"].in_cgs()\n",
      "    uzdy = (data[\"vely\"].in_cgs() - BV[1] ) * data[\"velz_gradient_y\"].in_cgs()\n",
      "    uzdz = (data[\"velz\"].in_cgs() - BV[2] ) * data[\"velz_gradient_z\"].in_cgs()\n",
      "\n",
      "    convz = uzdx + uzdy + uzdz\n",
      "    return convz"
     ],
     "language": "python",
     "metadata": {},
     "outputs": [],
     "prompt_number": 14
    },
    {
     "cell_type": "markdown",
     "metadata": {},
     "source": [
      "---"
     ]
    },
    {
     "cell_type": "code",
     "collapsed": false,
     "input": [
      "# Make a dictionary that contains the information.\n",
      "\n",
      "box_dict = {\"info\":\"This dictionary contains the information in each cell of the box I am using to do the force balance and study the orientation of magnetic fields with several ISM properties.\"}\n",
      "\n",
      "box_dict = {\"units\":{\"numdens\":\"1/cm**3\", \"cell_mass\":\"g\", \"dx\":\"cm\", \"temp\":\"K\", \"dens\":\"g/cm**3\", \"pres\":\"g/(cm*s**2)\", \n",
      "                     \"velx\":\"cm/s\", \"magx\":\"g**1/2/(cm**1/2*s)\", \"Pgrad_x\":\"g/(cm**2*s**2)\",\n",
      "                     \"lorentz_x\":\"g/(cm**2*s**2)\", \"conv_x\":\"cm/s**2\", \"gacc_x\":\"cm/s**2\", \n",
      "                     \"ramp_x\":\"cm/s**2\", \"curl_vort_x\":\"cm/s**2\"}}\n",
      "\n",
      "box_dict[\"numdens\"]   = box[\"numdens\"].in_cgs().value\n",
      "box_dict[\"cell_mass\"] = box[\"cell_mass\"].in_cgs().value\n",
      "box_dict[\"cell_volume\"] = box[\"cell_volume\"].in_cgs().value\n",
      "box_dict[\"dx\"]        = box[\"dx\"].in_cgs().value\n",
      "box_dict[\"temp\"]      = box[\"temp\"].in_cgs().value\n",
      "box_dict[\"dens\"]      = box[\"dens\"].in_cgs().value\n",
      "box_dict[\"pres\"]      = box[\"pres\"].in_cgs().value\n",
      "box_dict[\"velx\"]      = box[\"velx\"].in_cgs().value\n",
      "box_dict[\"vely\"]      = box[\"vely\"].in_cgs().value\n",
      "box_dict[\"velz\"]      = box[\"velz\"].in_cgs().value\n",
      "box_dict[\"magx\"]      = box[\"magx\"].in_cgs().value\n",
      "box_dict[\"magy\"]      = box[\"magy\"].in_cgs().value\n",
      "box_dict[\"magz\"]      = box[\"magz\"].in_cgs().value\n",
      "\n",
      "box_dict[\"Pgrad_x\"]     = box[\"pressure_gradient_x\"].in_cgs().value\n",
      "box_dict[\"Pgrad_y\"]     = box[\"pressure_gradient_y\"].in_cgs().value\n",
      "box_dict[\"Pgrad_z\"]     = box[\"pressure_gradient_z\"].in_cgs().value\n",
      "\n",
      "box_dict[\"lorentz_x\"]   = box[\"lorentz_x\"].in_cgs().value\n",
      "box_dict[\"lorentz_y\"]   = box[\"lorentz_y\"].in_cgs().value\n",
      "box_dict[\"lorentz_z\"]   = box[\"lorentz_z\"].in_cgs().value\n",
      "\n",
      "box_dict[\"conv_x\"]      = box[\"conv_x\"].in_cgs().value\n",
      "box_dict[\"conv_y\"]      = box[\"conv_y\"].in_cgs().value\n",
      "box_dict[\"conv_z\"]      = box[\"conv_z\"].in_cgs().value\n",
      "\n",
      "box_dict[\"conv_x2\"]      = adv_newref_x(box).value\n",
      "box_dict[\"conv_y2\"]      = adv_newref_y(box).value\n",
      "box_dict[\"conv_z2\"]      = adv_newref_z(box).value\n",
      "\n",
      "box_dict[\"gacc_x\"]      = box[\"gpot_gradient_x\"].in_cgs().value\n",
      "box_dict[\"gacc_y\"]      = box[\"gpot_gradient_y\"].in_cgs().value\n",
      "box_dict[\"gacc_z\"]      = box[\"gpot_gradient_z\"].in_cgs().value\n",
      "\n",
      "box_dict[\"ramp_x\"]      = box[\"vmag2_gradient_x\"].in_cgs().value\n",
      "box_dict[\"ramp_y\"]      = box[\"vmag2_gradient_y\"].in_cgs().value\n",
      "box_dict[\"ramp_z\"]      = box[\"vmag2_gradient_z\"].in_cgs().value\n",
      "\n",
      "box_dict[\"curl_vort_x\"] = box[\"curl_vort_x\"].in_cgs().value\n",
      "box_dict[\"curl_vort_y\"] = box[\"curl_vort_y\"].in_cgs().value\n",
      "box_dict[\"curl_vort_z\"] = box[\"curl_vort_z\"].in_cgs().value"
     ],
     "language": "python",
     "metadata": {},
     "outputs": []
    },
    {
     "cell_type": "code",
     "collapsed": false,
     "input": [
      "# Save the box information onto a pickle file.\n",
      "\n",
      "save_dir = \"/data/gamera/jcibanezm/StratBox/MagneticCloudsPaper/PickleClouds/%s\"%(Cloud_name)\n",
      "\n",
      "f = open('%s/Cloud_%s_snp%.3i_Forces.pkl'%(save_dir, Cloud_name, snapshot), 'wb') \n",
      "cP.dump(box_dict, f, protocol=cP.HIGHEST_PROTOCOL)\n",
      "f.close()"
     ],
     "language": "python",
     "metadata": {},
     "outputs": []
    },
    {
     "cell_type": "code",
     "collapsed": false,
     "input": [
      "pwd"
     ],
     "language": "python",
     "metadata": {},
     "outputs": [
      {
       "metadata": {},
       "output_type": "pyout",
       "prompt_number": 1,
       "text": [
        "u'/home/jcibanezm/codes/StratBox/MagneticClouds/ForceCalculation'"
       ]
      }
     ],
     "prompt_number": 1
    },
    {
     "cell_type": "code",
     "collapsed": false,
     "input": [
      "ls"
     ],
     "language": "python",
     "metadata": {},
     "outputs": [
      {
       "output_type": "stream",
       "stream": "stdout",
       "text": [
        "Calculate_Forces_saveDict.ipynb             LoadDict_MakePlots.ipynb\r\n",
        "\u001b[0m\u001b[01;32mCalculate_Forces_saveDict.py\u001b[0m*               filename.pickle\r\n",
        "\u001b[01;32mCalculate_Forces_saveDict_firstattempt.py\u001b[0m*\r\n"
       ]
      }
     ],
     "prompt_number": 2
    }
   ],
   "metadata": {}
  }
 ]
}